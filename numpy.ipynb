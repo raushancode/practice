{
 "cells": [
  {
   "cell_type": "code",
   "execution_count": 18,
   "metadata": {},
   "outputs": [
    {
     "name": "stdout",
     "output_type": "stream",
     "text": [
      "8\n",
      "[[4 4]\n",
      " [4 4]]\n"
     ]
    }
   ],
   "source": [
    "import numpy as np\n",
    "\n",
    "lst1 = input().split(\" \")\n",
    "lst2 = input().split(\" \")\n",
    "array1 = np.empty(len(lst1), dtype=int)\n",
    "array2 = np.empty(len(lst2), dtype=int)\n",
    "for i in range(len(lst1)):\n",
    "    array1[i] = int(lst1[i])\n",
    "for i in range(len(lst2)):\n",
    "    array2[i] = int(lst2[i])\n",
    "print(np.inner(array1, array2))\n",
    "print(np.outer(array1, array2))"
   ]
  },
  {
   "cell_type": "code",
   "execution_count": 25,
   "metadata": {},
   "outputs": [
    {
     "name": "stdout",
     "output_type": "stream",
     "text": [
      "3.0\n"
     ]
    }
   ],
   "source": [
    "lst = input().split(\" \")\n",
    "value = int(input())\n",
    "arr = np.empty(len(lst), dtype=float)\n",
    "for i in range(len(lst)):\n",
    "    arr[i] = float(lst[i])\n",
    "print(np.polyval(arr, value))\n",
    "# print(arr, value)"
   ]
  },
  {
   "cell_type": "code",
   "execution_count": 31,
   "metadata": {},
   "outputs": [
    {
     "name": "stdout",
     "output_type": "stream",
     "text": [
      "0.11\n"
     ]
    }
   ],
   "source": [
    "import numpy\n",
    "dim = int(input())\n",
    "arr = numpy.empty((dim, dim), dtype=float)\n",
    "for i in range(dim):\n",
    "    lst = input().split(\" \")\n",
    "    for j in range(dim):\n",
    "        arr[i, j] = float(lst[j])\n",
    "det = numpy.linalg.det(arr)\n",
    "print(round(det, 2))\n"
   ]
  }
 ],
 "metadata": {
  "kernelspec": {
   "display_name": "Python 3",
   "language": "python",
   "name": "python3"
  },
  "language_info": {
   "codemirror_mode": {
    "name": "ipython",
    "version": 3
   },
   "file_extension": ".py",
   "mimetype": "text/x-python",
   "name": "python",
   "nbconvert_exporter": "python",
   "pygments_lexer": "ipython3",
   "version": "3.11.0"
  },
  "orig_nbformat": 4
 },
 "nbformat": 4,
 "nbformat_minor": 2
}

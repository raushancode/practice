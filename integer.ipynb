{
 "cells": [
  {
   "cell_type": "code",
   "execution_count": 39,
   "metadata": {},
   "outputs": [
    {
     "ename": "SyntaxError",
     "evalue": "f-string: expecting '}' (1097782388.py, line 3)",
     "output_type": "error",
     "traceback": [
      "\u001b[1;36m  Cell \u001b[1;32mIn[39], line 3\u001b[1;36m\u001b[0m\n\u001b[1;33m    print(f'{' ':>1}  {' ':>1}  {' ':>1} {' ':>1}' i, oct(i)[2:], hex(i)[2:].upper(), bin(i)[2:], end=('\\n'))\u001b[0m\n\u001b[1;37m                                                   ^\u001b[0m\n\u001b[1;31mSyntaxError\u001b[0m\u001b[1;31m:\u001b[0m f-string: expecting '}'\n"
     ]
    }
   ],
   "source": [
    "def print_formatted(number):\n",
    "    for i in range(1, n+1):\n",
    "        print(f'{' ':>1}'  {' ':>1}  {' ':>1} {' ':>1}' (i, oct(i)[2:], hex(i)[2:].upper(), bin(i)[2:], end=('\\n')))\n",
    "    # your code goes here\n",
    "\n",
    "if __name__ == '__main__':\n",
    "    n = int(input())\n",
    "    print_formatted(n)"
   ]
  }
 ],
 "metadata": {
  "kernelspec": {
   "display_name": "Python 3",
   "language": "python",
   "name": "python3"
  },
  "language_info": {
   "codemirror_mode": {
    "name": "ipython",
    "version": 3
   },
   "file_extension": ".py",
   "mimetype": "text/x-python",
   "name": "python",
   "nbconvert_exporter": "python",
   "pygments_lexer": "ipython3",
   "version": "3.11.0"
  },
  "orig_nbformat": 4,
  "vscode": {
   "interpreter": {
    "hash": "511e9e13bc4620983edc131ad8d0e6893cd27dde347608c00f58f4d0fc932ef8"
   }
  }
 },
 "nbformat": 4,
 "nbformat_minor": 2
}
